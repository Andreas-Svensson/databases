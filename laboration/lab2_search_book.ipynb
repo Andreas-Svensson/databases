{
 "cells": [
  {
   "attachments": {},
   "cell_type": "markdown",
   "metadata": {},
   "source": [
    "# Connecting to Database Using SQLAlchemy\n",
    "\n",
    "### Connection through a public user with restricted access\n",
    "### Allows user to search for a book and get results showing how many books are available and in which store"
   ]
  },
  {
   "cell_type": "code",
   "execution_count": 1,
   "metadata": {},
   "outputs": [
    {
     "name": "stdout",
     "output_type": "stream",
     "text": [
      "Connecting to database using URL string:\n",
      "mssql+pyodbc://?odbc_connect=Driver=ODBC+Driver+17+for+SQL+Server;Server=localhost;Database=laboration;UID=Public+Store+Access;PWD=123; \n",
      "\n",
      "Successfully connected to laboration database!\n"
     ]
    }
   ],
   "source": [
    "from sqlalchemy import create_engine\n",
    "from sqlalchemy.engine import URL\n",
    "from sqlalchemy import text\n",
    "from urllib.parse import unquote\n",
    "\n",
    "# using pandas for displaying result\n",
    "import pandas as pd\n",
    "from IPython.display import display\n",
    "\n",
    "# set up connection string variables using the user Public Store Access\n",
    "# this user is set up to have minimal access to the database and is intended to be used in external applications such as this\n",
    "# in this case it can only access executing the stored procedure \"SearchBook\" in the laboration database and nothing else\n",
    "driver = \"ODBC Driver 17 for SQL Server\"\n",
    "server_name   = \"localhost\"\n",
    "database_name = \"laboration\"\n",
    "username = \"Public Store Access\"\n",
    "password = \"123\"\n",
    "\n",
    "connection_string = f\"Driver={driver};Server={server_name};Database={database_name};UID={username};PWD={password};\"\n",
    "url_string = URL.create(\"mssql+pyodbc\", query = dict(odbc_connect = connection_string))\n",
    "\n",
    "print('Connecting to database using URL string:')\n",
    "unquoted_url = unquote(str(url_string))\n",
    "print(unquoted_url, '\\n')\n",
    "\n",
    "try: # attempt to connect using the url string\n",
    "    engine = create_engine(url_string)\n",
    "    with engine.connect() as connection:\n",
    "        print(f'Successfully connected to {database_name} database!') # print a message if successful\n",
    "except Exception as err: # print an error message if unsuccessful\n",
    "    print('Error while connecting to database:\\n')\n",
    "    print(err)"
   ]
  },
  {
   "cell_type": "code",
   "execution_count": 2,
   "metadata": {},
   "outputs": [],
   "source": [
    "def execute_sp(title, connection):\n",
    "    \"\"\"function for executing the SearchBook SP in laboration database, returns books matching title parameter and how many there are in each store\"\"\"\n",
    "    query = text(\"\"\"EXECUTE SearchBook :title\"\"\") # injection safe way of handling variable value, query takes a :title parameter\n",
    "    results = connection.execute(query, {'title': f'%{title}%'}).fetchall() # and here the :title parameter is given the value of title\n",
    "    return results\n",
    "\n",
    "def search_book():\n",
    "    # let user input a book title\n",
    "    title = input(\"Search for a book: \").strip()\n",
    "\n",
    "    with engine.connect() as connection:\n",
    "        results = execute_sp(title, connection) # book search results fetched\n",
    "        df = pd.DataFrame(results, columns = [\"Store\", \"Title\", \"Format\", \"Amount\"]) # results stored as dataframe\n",
    "        print(f\"Search for \\\"{title}\\\" gave {len(df)} results.\")\n",
    "        if len(df) > 0:\n",
    "            display(df) # dataframe displayed in a neat formatted manner"
   ]
  },
  {
   "cell_type": "code",
   "execution_count": 3,
   "metadata": {},
   "outputs": [
    {
     "name": "stdout",
     "output_type": "stream",
     "text": [
      "Search for \"Embassytown\" gave 6 results.\n"
     ]
    },
    {
     "data": {
      "text/html": [
       "<div>\n",
       "<style scoped>\n",
       "    .dataframe tbody tr th:only-of-type {\n",
       "        vertical-align: middle;\n",
       "    }\n",
       "\n",
       "    .dataframe tbody tr th {\n",
       "        vertical-align: top;\n",
       "    }\n",
       "\n",
       "    .dataframe thead th {\n",
       "        text-align: right;\n",
       "    }\n",
       "</style>\n",
       "<table border=\"1\" class=\"dataframe\">\n",
       "  <thead>\n",
       "    <tr style=\"text-align: right;\">\n",
       "      <th></th>\n",
       "      <th>Store</th>\n",
       "      <th>Title</th>\n",
       "      <th>Format</th>\n",
       "      <th>Amount</th>\n",
       "    </tr>\n",
       "  </thead>\n",
       "  <tbody>\n",
       "    <tr>\n",
       "      <th>0</th>\n",
       "      <td>Bookstore Gothenburg Central</td>\n",
       "      <td>Embassytown</td>\n",
       "      <td>Hardcover</td>\n",
       "      <td>12</td>\n",
       "    </tr>\n",
       "    <tr>\n",
       "      <th>1</th>\n",
       "      <td>Bookstore Gothenburg Central</td>\n",
       "      <td>Embassytown</td>\n",
       "      <td>Paperback</td>\n",
       "      <td>1</td>\n",
       "    </tr>\n",
       "    <tr>\n",
       "      <th>2</th>\n",
       "      <td>Bookstore Gothenburg North</td>\n",
       "      <td>Embassytown</td>\n",
       "      <td>Paperback</td>\n",
       "      <td>1</td>\n",
       "    </tr>\n",
       "    <tr>\n",
       "      <th>3</th>\n",
       "      <td>Bookstore Gothenburg North</td>\n",
       "      <td>Embassytown</td>\n",
       "      <td>Hardcover</td>\n",
       "      <td>0</td>\n",
       "    </tr>\n",
       "    <tr>\n",
       "      <th>4</th>\n",
       "      <td>Bookstore Lerum</td>\n",
       "      <td>Embassytown</td>\n",
       "      <td>Paperback</td>\n",
       "      <td>3</td>\n",
       "    </tr>\n",
       "    <tr>\n",
       "      <th>5</th>\n",
       "      <td>Bookstore Lerum</td>\n",
       "      <td>Embassytown</td>\n",
       "      <td>Hardcover</td>\n",
       "      <td>2</td>\n",
       "    </tr>\n",
       "  </tbody>\n",
       "</table>\n",
       "</div>"
      ],
      "text/plain": [
       "                          Store        Title     Format  Amount\n",
       "0  Bookstore Gothenburg Central  Embassytown  Hardcover      12\n",
       "1  Bookstore Gothenburg Central  Embassytown  Paperback       1\n",
       "2    Bookstore Gothenburg North  Embassytown  Paperback       1\n",
       "3    Bookstore Gothenburg North  Embassytown  Hardcover       0\n",
       "4               Bookstore Lerum  Embassytown  Paperback       3\n",
       "5               Bookstore Lerum  Embassytown  Hardcover       2"
      ]
     },
     "metadata": {},
     "output_type": "display_data"
    }
   ],
   "source": [
    "search_book()"
   ]
  },
  {
   "cell_type": "code",
   "execution_count": 4,
   "metadata": {},
   "outputs": [
    {
     "name": "stdout",
     "output_type": "stream",
     "text": [
      "Search for \"BaSsY\" gave 6 results.\n"
     ]
    },
    {
     "data": {
      "text/html": [
       "<div>\n",
       "<style scoped>\n",
       "    .dataframe tbody tr th:only-of-type {\n",
       "        vertical-align: middle;\n",
       "    }\n",
       "\n",
       "    .dataframe tbody tr th {\n",
       "        vertical-align: top;\n",
       "    }\n",
       "\n",
       "    .dataframe thead th {\n",
       "        text-align: right;\n",
       "    }\n",
       "</style>\n",
       "<table border=\"1\" class=\"dataframe\">\n",
       "  <thead>\n",
       "    <tr style=\"text-align: right;\">\n",
       "      <th></th>\n",
       "      <th>Store</th>\n",
       "      <th>Title</th>\n",
       "      <th>Format</th>\n",
       "      <th>Amount</th>\n",
       "    </tr>\n",
       "  </thead>\n",
       "  <tbody>\n",
       "    <tr>\n",
       "      <th>0</th>\n",
       "      <td>Bookstore Gothenburg Central</td>\n",
       "      <td>Embassytown</td>\n",
       "      <td>Hardcover</td>\n",
       "      <td>12</td>\n",
       "    </tr>\n",
       "    <tr>\n",
       "      <th>1</th>\n",
       "      <td>Bookstore Gothenburg Central</td>\n",
       "      <td>Embassytown</td>\n",
       "      <td>Paperback</td>\n",
       "      <td>1</td>\n",
       "    </tr>\n",
       "    <tr>\n",
       "      <th>2</th>\n",
       "      <td>Bookstore Gothenburg North</td>\n",
       "      <td>Embassytown</td>\n",
       "      <td>Paperback</td>\n",
       "      <td>1</td>\n",
       "    </tr>\n",
       "    <tr>\n",
       "      <th>3</th>\n",
       "      <td>Bookstore Gothenburg North</td>\n",
       "      <td>Embassytown</td>\n",
       "      <td>Hardcover</td>\n",
       "      <td>0</td>\n",
       "    </tr>\n",
       "    <tr>\n",
       "      <th>4</th>\n",
       "      <td>Bookstore Lerum</td>\n",
       "      <td>Embassytown</td>\n",
       "      <td>Paperback</td>\n",
       "      <td>3</td>\n",
       "    </tr>\n",
       "    <tr>\n",
       "      <th>5</th>\n",
       "      <td>Bookstore Lerum</td>\n",
       "      <td>Embassytown</td>\n",
       "      <td>Hardcover</td>\n",
       "      <td>2</td>\n",
       "    </tr>\n",
       "  </tbody>\n",
       "</table>\n",
       "</div>"
      ],
      "text/plain": [
       "                          Store        Title     Format  Amount\n",
       "0  Bookstore Gothenburg Central  Embassytown  Hardcover      12\n",
       "1  Bookstore Gothenburg Central  Embassytown  Paperback       1\n",
       "2    Bookstore Gothenburg North  Embassytown  Paperback       1\n",
       "3    Bookstore Gothenburg North  Embassytown  Hardcover       0\n",
       "4               Bookstore Lerum  Embassytown  Paperback       3\n",
       "5               Bookstore Lerum  Embassytown  Hardcover       2"
      ]
     },
     "metadata": {},
     "output_type": "display_data"
    }
   ],
   "source": [
    "search_book() # can also search for parts of words, and not case-sensitive"
   ]
  },
  {
   "cell_type": "code",
   "execution_count": 5,
   "metadata": {},
   "outputs": [
    {
     "name": "stdout",
     "output_type": "stream",
     "text": [
      "Search for \"45oeghoegh\" gave 0 results.\n"
     ]
    }
   ],
   "source": [
    "search_book()"
   ]
  },
  {
   "cell_type": "code",
   "execution_count": 6,
   "metadata": {},
   "outputs": [
    {
     "name": "stdout",
     "output_type": "stream",
     "text": [
      "Search for \"\"; SELECT * FROM company.SaleDetails;\" gave 0 results.\n"
     ]
    }
   ],
   "source": [
    "search_book() # cannot use sql injection (and even if it was possible to work around, user has no access to information)"
   ]
  },
  {
   "cell_type": "code",
   "execution_count": null,
   "metadata": {},
   "outputs": [],
   "source": []
  }
 ],
 "metadata": {
  "kernelspec": {
   "display_name": "databases-UQQmIC0I",
   "language": "python",
   "name": "python3"
  },
  "language_info": {
   "codemirror_mode": {
    "name": "ipython",
    "version": 3
   },
   "file_extension": ".py",
   "mimetype": "text/x-python",
   "name": "python",
   "nbconvert_exporter": "python",
   "pygments_lexer": "ipython3",
   "version": "3.9.13"
  },
  "orig_nbformat": 4
 },
 "nbformat": 4,
 "nbformat_minor": 2
}
